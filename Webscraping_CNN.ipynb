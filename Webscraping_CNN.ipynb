{
    "cells": [
        {
            "cell_type": "code",
            "execution_count": 0,
            "metadata": {
                "colab": {},
                "colab_type": "code",
                "id": "9ptiR_WpiRxE"
            },
            "outputs": [],
            "source": "import numpy as np\nimport mysql.connector\nfrom sqlalchemy import create_engine\nimport pymysql\nimport json\nimport time\nfrom datetime import date\nfrom dateutil.parser import parse\nfrom datetime import datetime\nimport pandas as pd\nimport requests\nfrom bs4 import BeautifulSoup \nfrom tqdm import notebook\nfrom selenium import webdriver\nfrom selenium.webdriver.common.keys import Keys\nfrom selenium.common.exceptions import NoSuchElementException\nimport datetime\nimport re\nfrom datetime import timedelta\nimport glob\nimport os\nimport math\nfrom random import randint\nfrom tqdm import notebook"
        },
        {
            "cell_type": "markdown",
            "metadata": {
                "colab_type": "text",
                "id": "Jbq29-97iRxH"
            },
            "source": "# CNN"
        },
        {
            "cell_type": "markdown",
            "metadata": {
                "colab_type": "text",
                "id": "dKNCvaZZiRxH"
            },
            "source": "## coronavirus, 82 results, within 1 page"
        },
        {
            "cell_type": "code",
            "execution_count": 0,
            "metadata": {
                "colab": {},
                "colab_type": "code",
                "id": "ez2wUnp2iRxI"
            },
            "outputs": [],
            "source": "# keyword = coronavirus\nurl = 'https://www.cnn.com/search?size=100&q=corona%20virus'\n"
        },
        {
            "cell_type": "code",
            "execution_count": 0,
            "metadata": {
                "colab": {},
                "colab_type": "code",
                "id": "fF2RSn09iRxK"
            },
            "outputs": [],
            "source": "driver = webdriver.Chrome()\ndriver.get(url)\n"
        },
        {
            "cell_type": "code",
            "execution_count": 0,
            "metadata": {
                "colab": {},
                "colab_type": "code",
                "id": "iUuHHz1IiRxM"
            },
            "outputs": [],
            "source": "headline_tag = driver.find_elements_by_class_name('cnn-search__result-headline')"
        },
        {
            "cell_type": "code",
            "execution_count": 0,
            "metadata": {
                "colab": {},
                "colab_type": "code",
                "id": "-tKZPNyhiRxO"
            },
            "outputs": [],
            "source": "xpth = \"//*[@class = 'cnn-search__result-headline']/a\"\nlinks = [*map(lambda x: x.get_attribute('href'), driver.find_elements_by_xpath(xpth))]\nheadlines = [*map(lambda x: x.text, headline_tag)]"
        },
        {
            "cell_type": "code",
            "execution_count": 0,
            "metadata": {
                "colab": {},
                "colab_type": "code",
                "id": "RsNViGmLiRxQ"
            },
            "outputs": [],
            "source": "time_tag = driver.find_elements_by_class_name('cnn-search__result-publish-date')\ntimes = [*map(lambda x: x.text, time_tag)]\n"
        },
        {
            "cell_type": "code",
            "execution_count": 0,
            "metadata": {
                "colab": {},
                "colab_type": "code",
                "id": "NuKJx_LliRxS"
            },
            "outputs": [],
            "source": "result_body_tag = driver.find_elements_by_css_selector(r'div.cnn-search__result-body')\nresult_body = [*map(lambda x: x.text, result_body_tag)]"
        },
        {
            "cell_type": "code",
            "execution_count": 0,
            "metadata": {
                "colab": {},
                "colab_type": "code",
                "id": "EQ2yJ45OiRxU"
            },
            "outputs": [],
            "source": "search_cv = pd.DataFrame(\n    {'headline': headlines,\n     'published_date': time,\n     'link': link,\n     'content': result_body\n    })"
        },
        {
            "cell_type": "code",
            "execution_count": 0,
            "metadata": {
                "colab": {},
                "colab_type": "code",
                "id": "4-T19cVRiRxW"
            },
            "outputs": [],
            "source": "search_cv.to_excel('CNN_coronavirus_0408.xlsx')"
        },
        {
            "cell_type": "markdown",
            "metadata": {
                "colab_type": "text",
                "id": "j6TMn5aMiRxY"
            },
            "source": "## Covid-19, 1800+ results"
        },
        {
            "cell_type": "code",
            "execution_count": 0,
            "metadata": {
                "colab": {},
                "colab_type": "code",
                "id": "sxUfWZPJiRxY"
            },
            "outputs": [],
            "source": "driver_init = webdriver.Chrome()\nurl_init = 'https://www.cnn.com/search?size=10&q=covid-19'\n# find the place that stores how many results "
        },
        {
            "cell_type": "code",
            "execution_count": 0,
            "metadata": {
                "code_folding": [],
                "colab": {},
                "colab_type": "code",
                "id": "XlxINsbTiRxb"
            },
            "outputs": [],
            "source": "# keyword = coronavirus\n# 1768 is the total number of results about covid-19\ncnn_covid = ['https://www.cnn.com/search?size=10&q=covid-19&from='+str(x) for x in range(0, 1784, 10)]"
        },
        {
            "cell_type": "code",
            "execution_count": 0,
            "metadata": {
                "colab": {},
                "colab_type": "code",
                "id": "g8-Ca0iyiRxe"
            },
            "outputs": [],
            "source": "cnn_covid_file = os.getcwd()+'\\\\cnn\\\\covid1'\nif not os.path.exists(cnn_covid_file):\n    os.makedirs(cnn_covid_file)"
        },
        {
            "cell_type": "code",
            "execution_count": 0,
            "metadata": {
                "colab": {},
                "colab_type": "code",
                "id": "ppdD232-iRxg"
            },
            "outputs": [],
            "source": "driver_cnn_covid = webdriver.Chrome()"
        },
        {
            "cell_type": "code",
            "execution_count": 0,
            "metadata": {
                "colab": {
                    "referenced_widgets": [
                        "e71d20fc4ce24d6b96bad1e18ecf34e4"
                    ]
                },
                "colab_type": "code",
                "id": "xqkntTXuiRxh",
                "outputId": "bdd8fa16-1a47-47cb-9f06-ae099b239e42"
            },
            "outputs": [
                {
                    "data": {
                        "application/vnd.jupyter.widget-view+json": {
                            "model_id": "e71d20fc4ce24d6b96bad1e18ecf34e4",
                            "version_major": 2,
                            "version_minor": 0
                        },
                        "text/plain": "HBox(children=(FloatProgress(value=1.0, bar_style='info', max=1.0), HTML(value='')))"
                    },
                    "metadata": {
                        "tags": []
                    },
                    "output_type": "display_data"
                },
                {
                    "name": "stdout",
                    "output_type": "stream",
                    "text": "\n"
                }
            ],
            "source": "# create the lists for dataframe\nfor idx, cnn_url in notebook.tqdm(enumerate(cnn_covid)):\n    rand = randint(2,6)\n    time.sleep(rand)\n    # get the url, store the values of tags \n    driver_cnn_covid.get(cnn_url)\n    # download the source pages\n    pagesource = driver_cnn_covid.page_source\n    file_name = 'covid-19' + ' ' + str(idx) + '.txt'\n    name_wdir = os.path.join(cnn_covid_file, file_name)\n    file = open(name_wdir, 'w',  encoding = \"utf-8\")\n    file.write(str(pagesource))\n    file.close()"
        },
        {
            "cell_type": "code",
            "execution_count": 0,
            "metadata": {
                "code_folding": [],
                "colab": {},
                "colab_type": "code",
                "id": "hGxnRsRniRxk"
            },
            "outputs": [],
            "source": "# Get the name of all files\ncnn_covid_txt_list = []\nfor filename in glob.glob(cnn_covid_file + '\\\\*.txt'):\n    # Put all names in a list\n    cnn_covid_txt_list.append(filename)"
        },
        {
            "cell_type": "code",
            "execution_count": 0,
            "metadata": {
                "code_folding": [],
                "colab": {},
                "colab_type": "code",
                "id": "G-ORLpZAiRxm"
            },
            "outputs": [],
            "source": "# code for selenium\n#     xpth = \"//*[@class = 'cnn-search__result-headline']/a\"\n#     links_tag = driver_cnn_covid.find_elements_by_xpath(xpth)\n#     headline_tag = driver_cnn_covid.find_elements_by_class_name('cnn-search__result-headline')\n#     time_tag = driver_cnn_covid.find_elements_by_class_name('cnn-search__result-publish-date')\n#     result_body_tag = driver_cnn_covid.find_elements_by_css_selector(r'div.cnn-search__result-body')\n#     # get values on 1 page\n#     links = [*map(lambda x: x.get_attribute('href'), links_tag)]\n#     headlines = [*map(lambda x: x.text, headline_tag)]\n#     times = [*map(lambda x: x.text, time_tag)]\n#     result_body = [*map(lambda x: x.text, result_body_tag)]\n#     # store values to the large list\n#     headlines_covid = headlines_covid + headlines\n#     time_covid = time_covid + times\n#     link_covid = link_covid + links\n#     result_body_covid = result_body_covid + result_body"
        },
        {
            "cell_type": "code",
            "execution_count": 0,
            "metadata": {
                "colab": {
                    "referenced_widgets": [
                        "2ff9580bb0544058aa16011ccb4df42d"
                    ]
                },
                "colab_type": "code",
                "id": "ISxgQzmLiRxn",
                "outputId": "a029d87e-8970-4a9e-d44d-b8967bc494ee"
            },
            "outputs": [
                {
                    "data": {
                        "application/vnd.jupyter.widget-view+json": {
                            "model_id": "2ff9580bb0544058aa16011ccb4df42d",
                            "version_major": 2,
                            "version_minor": 0
                        },
                        "text/plain": "HBox(children=(FloatProgress(value=1.0, bar_style='info', max=1.0), HTML(value='')))"
                    },
                    "metadata": {
                        "tags": []
                    },
                    "output_type": "display_data"
                },
                {
                    "name": "stdout",
                    "output_type": "stream",
                    "text": "\n"
                }
            ],
            "source": "headlines_covid = []\ntime_covid = []\nlink_covid = []\nresult_body_covid = []\n\nfor idx, cnn_covid_txt in notebook.tqdm(enumerate(cnn_covid_txt_list)):\n    name_wdir2 = os.path.join(cnn_covid_file, cnn_covid_txt)\n    page_content = open(name_wdir2, \"r\", encoding=\"utf-8\").read()\n    soup = BeautifulSoup(page_content)\n    \n    # get the tags of headlines, links, published_dates, and contents\n    headline_tag = soup.find_all(class_ = 'cnn-search__result-headline')\n    links_tag = soup.find_all(class_ = 'cnn-search__result-headline')#['href']\n    time_tag = soup.find_all(class_ = 'cnn-search__result-publish-date')\n    result_body_tag = soup.find_all(class_ = 'cnn-search__result-body')\n    \n    # get the values of headlines, links, published_dates, and contents\n    links = [idx] * 10\n    result_body = [idx] * 10\n    times = [idx] * 10 \n    headlines = [idx] * 10\n    if len([*map(lambda x: ''.join(x.text.split('\\n')), headline_tag)]) != 0:\n        links = [*map(lambda x: x.a['href'], links_tag)]\n        headlines = [*map(lambda x: ''.join(x.text.split('\\n')), headline_tag)]\n        times = [*map(lambda x: ''.join(x.text.split('\\n')), time_tag)]\n        result_body = [*map(lambda x: ''.join(x.text.split('\\n')), result_body_tag)]\n    \n    # store values to the list\n    headlines_covid = headlines_covid + headlines\n    time_covid = time_covid + times\n    link_covid = link_covid + links\n    result_body_covid = result_body_covid + result_body\n    "
        },
        {
            "cell_type": "code",
            "execution_count": 0,
            "metadata": {
                "colab": {},
                "colab_type": "code",
                "id": "6iHKeeU5iRxp"
            },
            "outputs": [],
            "source": "search_covid = pd.DataFrame(\n    {'headline': headlines_covid,\n     'published_date': time_covid,\n     'link': link_covid,\n     'content': result_body_covid\n    })"
        },
        {
            "cell_type": "code",
            "execution_count": 0,
            "metadata": {
                "colab": {},
                "colab_type": "code",
                "id": "gFFoPRL3iRxr",
                "outputId": "9c64f86b-3854-4fdb-84d3-5b2388b1793c"
            },
            "outputs": [
                {
                    "data": {
                        "text/html": "<div>\n<style scoped>\n    .dataframe tbody tr th:only-of-type {\n        vertical-align: middle;\n    }\n\n    .dataframe tbody tr th {\n        vertical-align: top;\n    }\n\n    .dataframe thead th {\n        text-align: right;\n    }\n</style>\n<table border=\"1\" class=\"dataframe\">\n  <thead>\n    <tr style=\"text-align: right;\">\n      <th></th>\n      <th>headline</th>\n      <th>published_date</th>\n      <th>link</th>\n      <th>content</th>\n    </tr>\n  </thead>\n  <tbody>\n    <tr>\n      <th>0</th>\n      <td>Coronavirus pandemic alters life as we know it</td>\n      <td>Apr 7, 2020</td>\n      <td>//www.cnn.com/world/live-news/coronavirus-pand...</td>\n      <td>Louisiana Gov. Joh...</td>\n    </tr>\n    <tr>\n      <th>1</th>\n      <td>Trump on coronavirus: promises vs. reality</td>\n      <td>Apr 5, 2020</td>\n      <td>//www.cnn.com/videos/politics/2020/04/04/trump...</td>\n      <td>As the Covid-19 pa...</td>\n    </tr>\n    <tr>\n      <th>2</th>\n      <td>Revised coronavirus model predicts fewer death...</td>\n      <td>Apr 7, 2020</td>\n      <td>//www.cnn.com/2020/04/07/health/ihme-updated-c...</td>\n      <td>An influential mod...</td>\n    </tr>\n    <tr>\n      <th>3</th>\n      <td>US military transferred 18 Covid-19 patients a...</td>\n      <td>Apr 8, 2020</td>\n      <td>//www.cnn.com/2020/04/08/politics/military-tra...</td>\n      <td>A New York City ho...</td>\n    </tr>\n    <tr>\n      <th>4</th>\n      <td>What California is doing right in responding t...</td>\n      <td>Apr 8, 2020</td>\n      <td>//www.cnn.com/2020/04/08/us/california-coronav...</td>\n      <td>Within weeks of th...</td>\n    </tr>\n    <tr>\n      <th>...</th>\n      <td>...</td>\n      <td>...</td>\n      <td>...</td>\n      <td>...</td>\n    </tr>\n    <tr>\n      <th>1779</th>\n      <td>What you need to know about coronavirus on Wed...</td>\n      <td>Mar 25, 2020</td>\n      <td>//www.cnn.com/2020/03/25/world/coronavirus-new...</td>\n      <td>\"This is not a mom...</td>\n    </tr>\n    <tr>\n      <th>1780</th>\n      <td>Blame game escalates between US and China over...</td>\n      <td>Mar 23, 2020</td>\n      <td>//www.cnn.com/2020/03/24/politics/us-china-cor...</td>\n      <td>President Donald T...</td>\n    </tr>\n    <tr>\n      <th>1781</th>\n      <td>FDA says it is expediting the use of a blood p...</td>\n      <td>Mar 25, 2020</td>\n      <td>//www.cnn.com/2020/03/25/health/coronavirus-bl...</td>\n      <td>The US Food and Dr...</td>\n    </tr>\n    <tr>\n      <th>1782</th>\n      <td>Overview of what $2 trillion stimulus bill wil...</td>\n      <td>Mar 25, 2020</td>\n      <td>//www.cnn.com/videos/politics/2020/03/25/stimu...</td>\n      <td>CNN's Julia Chatte...</td>\n    </tr>\n    <tr>\n      <th>1783</th>\n      <td>Trump's hope for an Easter reopening clashes w...</td>\n      <td>Mar 24, 2020</td>\n      <td>//www.cnn.com/2020/03/25/politics/donald-trump...</td>\n      <td>President Donald T...</td>\n    </tr>\n  </tbody>\n</table>\n<p>1784 rows \u00d7 4 columns</p>\n</div>",
                        "text/plain": "                                               headline published_date  \\\n0        Coronavirus pandemic alters life as we know it    Apr 7, 2020   \n1            Trump on coronavirus: promises vs. reality    Apr 5, 2020   \n2     Revised coronavirus model predicts fewer death...    Apr 7, 2020   \n3     US military transferred 18 Covid-19 patients a...    Apr 8, 2020   \n4     What California is doing right in responding t...    Apr 8, 2020   \n...                                                 ...            ...   \n1779  What you need to know about coronavirus on Wed...   Mar 25, 2020   \n1780  Blame game escalates between US and China over...   Mar 23, 2020   \n1781  FDA says it is expediting the use of a blood p...   Mar 25, 2020   \n1782  Overview of what $2 trillion stimulus bill wil...   Mar 25, 2020   \n1783  Trump's hope for an Easter reopening clashes w...   Mar 24, 2020   \n\n                                                   link  \\\n0     //www.cnn.com/world/live-news/coronavirus-pand...   \n1     //www.cnn.com/videos/politics/2020/04/04/trump...   \n2     //www.cnn.com/2020/04/07/health/ihme-updated-c...   \n3     //www.cnn.com/2020/04/08/politics/military-tra...   \n4     //www.cnn.com/2020/04/08/us/california-coronav...   \n...                                                 ...   \n1779  //www.cnn.com/2020/03/25/world/coronavirus-new...   \n1780  //www.cnn.com/2020/03/24/politics/us-china-cor...   \n1781  //www.cnn.com/2020/03/25/health/coronavirus-bl...   \n1782  //www.cnn.com/videos/politics/2020/03/25/stimu...   \n1783  //www.cnn.com/2020/03/25/politics/donald-trump...   \n\n                                                content  \n0                                 Louisiana Gov. Joh...  \n1                                 As the Covid-19 pa...  \n2                                 An influential mod...  \n3                                 A New York City ho...  \n4                                 Within weeks of th...  \n...                                                 ...  \n1779                              \"This is not a mom...  \n1780                              President Donald T...  \n1781                              The US Food and Dr...  \n1782                              CNN's Julia Chatte...  \n1783                              President Donald T...  \n\n[1784 rows x 4 columns]"
                    },
                    "execution_count": 109,
                    "metadata": {
                        "tags": []
                    },
                    "output_type": "execute_result"
                }
            ],
            "source": "search_covid"
        },
        {
            "cell_type": "code",
            "execution_count": 0,
            "metadata": {
                "colab": {},
                "colab_type": "code",
                "id": "D7Aim9hGiRxt"
            },
            "outputs": [],
            "source": "mask = [*map(lambda x: type(x) == int, search_covid['headline'])]\nlost_pages = np.array(search_covid[mask]['headline'].unique())"
        },
        {
            "cell_type": "code",
            "execution_count": 0,
            "metadata": {
                "colab": {
                    "referenced_widgets": [
                        "a1dfcb4a10fe48e3acc7e51cdb66dbb5"
                    ]
                },
                "colab_type": "code",
                "id": "E5IacvFfiRxu",
                "outputId": "89bd3eef-0b45-42fc-f9f8-ab2f76139a9b"
            },
            "outputs": [
                {
                    "data": {
                        "application/vnd.jupyter.widget-view+json": {
                            "model_id": "a1dfcb4a10fe48e3acc7e51cdb66dbb5",
                            "version_major": 2,
                            "version_minor": 0
                        },
                        "text/plain": "HBox(children=(FloatProgress(value=1.0, bar_style='info', max=1.0), HTML(value='')))"
                    },
                    "metadata": {
                        "tags": []
                    },
                    "output_type": "display_data"
                },
                {
                    "name": "stdout",
                    "output_type": "stream",
                    "text": "\n"
                }
            ],
            "source": "# re-download the lost pages\ncnn_covid_lost = ['https://www.cnn.com/search?size=10&q=covid-19&from='+str(x) for x in lost_pages*10]\nfor idx, cnn_url in notebook.tqdm(enumerate(cnn_covid_lost)):\n    rand = randint(2,6)\n    time.sleep(rand)\n    # get the url, store the values of tags \n    driver_cnn_covid.get(cnn_url)\n    # download the source pages\n    pagesource = driver_cnn_covid.page_source\n    file_name = 'covid-19' + ' ' + str(idx) + '.html'\n    name_wdir = os.path.join(cnn_covid_file, file_name)\n    file = open(name_wdir, 'w',  encoding = \"utf-8\")\n    file.write(str(pagesource))\n    file.close()"
        },
        {
            "cell_type": "code",
            "execution_count": 0,
            "metadata": {
                "colab": {},
                "colab_type": "code",
                "id": "Og9othLQiRxx"
            },
            "outputs": [],
            "source": "# Get the name of all files\ncnn_covid_html_list = []\nfor filename in glob.glob(cnn_covid_file + '\\\\*.html'):\n    # Put all names in a list\n    cnn_covid_html_list.append(filename)"
        },
        {
            "cell_type": "code",
            "execution_count": 0,
            "metadata": {
                "colab": {},
                "colab_type": "code",
                "id": "oNrJ5uQhiRxz",
                "outputId": "26f88a38-87bf-4e63-8f37-c24288f83ae4"
            },
            "outputs": [
                {
                    "data": {
                        "text/plain": "['C:\\\\Users\\\\Willa\\\\Spinach\\\\UCD\\\\Hackathon\\\\newscrape\\\\cnn\\\\covid1\\\\covid-19 0.html',\n 'C:\\\\Users\\\\Willa\\\\Spinach\\\\UCD\\\\Hackathon\\\\newscrape\\\\cnn\\\\covid1\\\\covid-19 1.html',\n 'C:\\\\Users\\\\Willa\\\\Spinach\\\\UCD\\\\Hackathon\\\\newscrape\\\\cnn\\\\covid1\\\\covid-19 2.html',\n 'C:\\\\Users\\\\Willa\\\\Spinach\\\\UCD\\\\Hackathon\\\\newscrape\\\\cnn\\\\covid1\\\\covid-19 3.html',\n 'C:\\\\Users\\\\Willa\\\\Spinach\\\\UCD\\\\Hackathon\\\\newscrape\\\\cnn\\\\covid1\\\\covid-19 4.html',\n 'C:\\\\Users\\\\Willa\\\\Spinach\\\\UCD\\\\Hackathon\\\\newscrape\\\\cnn\\\\covid1\\\\covid-19 5.html',\n 'C:\\\\Users\\\\Willa\\\\Spinach\\\\UCD\\\\Hackathon\\\\newscrape\\\\cnn\\\\covid1\\\\covid-19 6.html']"
                    },
                    "execution_count": 120,
                    "metadata": {
                        "tags": []
                    },
                    "output_type": "execute_result"
                }
            ],
            "source": "cnn_covid_html_list"
        },
        {
            "cell_type": "code",
            "execution_count": 0,
            "metadata": {
                "colab": {
                    "referenced_widgets": [
                        "0219336f72a2428bbd000304acef99fd"
                    ]
                },
                "colab_type": "code",
                "id": "bPPS1CQniRx0",
                "outputId": "b4215618-1b5d-4e1a-c015-979d70fb6549"
            },
            "outputs": [
                {
                    "data": {
                        "application/vnd.jupyter.widget-view+json": {
                            "model_id": "0219336f72a2428bbd000304acef99fd",
                            "version_major": 2,
                            "version_minor": 0
                        },
                        "text/plain": "HBox(children=(FloatProgress(value=1.0, bar_style='info', max=1.0), HTML(value='')))"
                    },
                    "metadata": {
                        "tags": []
                    },
                    "output_type": "display_data"
                },
                {
                    "name": "stdout",
                    "output_type": "stream",
                    "text": "\n"
                }
            ],
            "source": "headlines_covid = []\ntime_covid = []\nlink_covid = []\nresult_body_covid = []\n\nfor idx, cnn_covid_txt in notebook.tqdm(enumerate(cnn_covid_html_list)):\n    name_wdir3 = os.path.join(cnn_covid_file, cnn_covid_txt)\n    page_content = open(name_wdir2, \"r\", encoding=\"utf-8\").read()\n    soup = BeautifulSoup(page_content)\n    \n    # get the tags of headlines, links, published_dates, and contents\n    headline_tag = soup.find_all(class_ = 'cnn-search__result-headline')\n    links_tag = soup.find_all(class_ = 'cnn-search__result-headline')#['href']\n    time_tag = soup.find_all(class_ = 'cnn-search__result-publish-date')\n    result_body_tag = soup.find_all(class_ = 'cnn-search__result-body')\n    \n    # get the values of headlines, links, published_dates, and contents\n    links = [idx] * 10\n    result_body = [idx] * 10\n    times = [idx] * 10 \n    headlines = [idx] * 10\n    if len([*map(lambda x: ''.join(x.text.split('\\n')), headline_tag)]) != 0:\n        links = [*map(lambda x: x.a['href'], links_tag)]\n        headlines = [*map(lambda x: ''.join(x.text.split('\\n')), headline_tag)]\n        times = [*map(lambda x: ''.join(x.text.split('\\n')), time_tag)]\n        result_body = [*map(lambda x: ''.join(x.text.split('\\n')), result_body_tag)]\n    \n    # store values to the list\n    headlines_covid = headlines_covid + headlines\n    time_covid = time_covid + times\n    link_covid = link_covid + links\n    result_body_covid = result_body_covid + result_body\n    "
        },
        {
            "cell_type": "code",
            "execution_count": 0,
            "metadata": {
                "colab": {},
                "colab_type": "code",
                "id": "xAu1JHmkiRx2"
            },
            "outputs": [],
            "source": "search_covid_lost = pd.DataFrame(\n    {'headline': headlines_covid,\n     'published_date': time_covid,\n     'link': link_covid,\n     'content': result_body_covid\n    })"
        },
        {
            "cell_type": "code",
            "execution_count": 0,
            "metadata": {
                "colab": {},
                "colab_type": "code",
                "id": "uKJb0eIqiRx5"
            },
            "outputs": [],
            "source": "lost_idx = search_covid.iloc[mask, :].index"
        },
        {
            "cell_type": "code",
            "execution_count": 0,
            "metadata": {
                "colab": {},
                "colab_type": "code",
                "id": "6S9QGAUViRx6"
            },
            "outputs": [],
            "source": "search_covid_test = search_covid.copy()"
        },
        {
            "cell_type": "code",
            "execution_count": 0,
            "metadata": {
                "colab": {},
                "colab_type": "code",
                "id": "fdz9GxheiRx8",
                "scrolled": true
            },
            "outputs": [],
            "source": "for page in range(len(cnn_covid_html_list)):\n    lost_idx_iter = lost_idx[page*10 : (page + 1) * 10]\n    search_covid_test.iloc[lost_idx_iter,:] = search_covid_lost[page*10 : (page + 1) * 10]"
        },
        {
            "cell_type": "code",
            "execution_count": 0,
            "metadata": {
                "colab": {},
                "colab_type": "code",
                "id": "hzltFpt-iRx-"
            },
            "outputs": [],
            "source": "search_covid_test\nmask = [*map(lambda x: type(x) == int, search_covid_test['headline'])]\nlost_pages = np.array(search_covid_test[mask]['headline'].unique())"
        },
        {
            "cell_type": "code",
            "execution_count": 0,
            "metadata": {
                "colab": {},
                "colab_type": "code",
                "id": "yftGvnGuiRx_"
            },
            "outputs": [],
            "source": "search_covid_test.to_excel('CNN_covid-19_0408.xlsx')"
        }
    ],
    "metadata": {
        "colab": {
            "name": "Webscraping - CNN.ipynb",
            "provenance": []
        },
        "kernelspec": {
            "display_name": "Python 3",
            "language": "python",
            "name": "python3"
        },
        "language_info": {
            "codemirror_mode": {
                "name": "ipython",
                "version": 3
            },
            "file_extension": ".py",
            "mimetype": "text/x-python",
            "name": "python",
            "nbconvert_exporter": "python",
            "pygments_lexer": "ipython3",
            "version": "3.7.6"
        },
        "toc": {
            "base_numbering": 1,
            "nav_menu": {},
            "number_sections": true,
            "sideBar": true,
            "skip_h1_title": false,
            "title_cell": "Table of Contents",
            "title_sidebar": "Contents",
            "toc_cell": false,
            "toc_position": {},
            "toc_section_display": true,
            "toc_window_display": false
        }
    },
    "nbformat": 4,
    "nbformat_minor": 0
}